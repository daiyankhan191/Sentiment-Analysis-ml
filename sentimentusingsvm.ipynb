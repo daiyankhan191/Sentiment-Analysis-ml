{
 "cells": [
  {
   "cell_type": "code",
   "execution_count": 1,
   "id": "3689816b",
   "metadata": {},
   "outputs": [
    {
     "name": "stderr",
     "output_type": "stream",
     "text": [
      "c:\\Users\\Dell\\anaconda3\\Lib\\site-packages\\sklearn\\svm\\_classes.py:31: FutureWarning: The default value of `dual` will change from `True` to `'auto'` in 1.5. Set the value of `dual` explicitly to suppress the warning.\n",
      "  warnings.warn(\n"
     ]
    },
    {
     "name": "stdout",
     "output_type": "stream",
     "text": [
      "\n",
      "Model Accuracy: 90.53 %\n",
      "\n",
      "              precision    recall  f1-score   support\n",
      "\n",
      "           0       0.91      0.89      0.90      4918\n",
      "           1       0.90      0.92      0.91      5084\n",
      "\n",
      "    accuracy                           0.91     10002\n",
      "   macro avg       0.91      0.91      0.91     10002\n",
      "weighted avg       0.91      0.91      0.91     10002\n",
      "\n",
      "Model training complete and saved at app/model/imdb_sentiment_svm.pkl\n"
     ]
    }
   ],
   "source": [
    "import pandas as pd\n",
    "from sklearn.model_selection import train_test_split\n",
    "from sklearn.pipeline import make_pipeline\n",
    "from sklearn.feature_extraction.text import TfidfVectorizer\n",
    "from sklearn.svm import LinearSVC\n",
    "from sklearn.metrics import classification_report, accuracy_score\n",
    "import joblib\n",
    "import re\n",
    "import string\n",
    "\n",
    "df = pd.read_csv('imdb_dataset.csv')\n",
    "df[\"sentiment\"] = df[\"sentiment\"].map({\"positive\": 1, \"negative\": 0})\n",
    "\n",
    "custom_data = pd.read_csv('custom_feedback.csv')\n",
    "custom_data[\"sentiment\"] = custom_data[\"label\"].map({\"positive\": 1, \"negative\": 0})\n",
    "custom_data.drop(columns=[\"label\"], inplace=True)\n",
    "\n",
    "df = pd.concat([df.rename(columns={\"review\": \"text\"}), custom_data], ignore_index=True)\n",
    "\n",
    "def clean_text(text):\n",
    "    text = text.lower()\n",
    "    text = re.sub(r\"<.*?>\", \"\", text)\n",
    "    text = text.translate(str.maketrans(\"\", \"\", string.punctuation))\n",
    "    return text.strip()\n",
    "\n",
    "df[\"text\"] = df[\"text\"].apply(clean_text)\n",
    "\n",
    "X = df[\"text\"]\n",
    "y = df[\"sentiment\"]\n",
    "X_train, X_test, y_train, y_test = train_test_split(X, y, test_size=0.2, random_state=42)\n",
    "\n",
    "pipeline = make_pipeline(\n",
    "    TfidfVectorizer(stop_words=\"english\", ngram_range=(1, 2), min_df=5),\n",
    "    LinearSVC()\n",
    ")\n",
    "\n",
    "pipeline.fit(X_train, y_train)\n",
    "\n",
    "y_pred = pipeline.predict(X_test)\n",
    "accuracy = accuracy_score(y_test, y_pred)\n",
    "print(\"\\nModel Accuracy:\", round(accuracy * 100, 2), \"%\\n\")\n",
    "print(classification_report(y_test, y_pred))\n",
    "\n",
    "joblib.dump(pipeline, 'imdb_sentiment_svm.pkl')\n",
    "\n",
    "print(\"Model training complete and saved at app/model/imdb_sentiment_svm.pkl\")\n",
    "\n"
   ]
  }
 ],
 "metadata": {
  "kernelspec": {
   "display_name": "base",
   "language": "python",
   "name": "python3"
  },
  "language_info": {
   "codemirror_mode": {
    "name": "ipython",
    "version": 3
   },
   "file_extension": ".py",
   "mimetype": "text/x-python",
   "name": "python",
   "nbconvert_exporter": "python",
   "pygments_lexer": "ipython3",
   "version": "3.12.4"
  }
 },
 "nbformat": 4,
 "nbformat_minor": 5
}
